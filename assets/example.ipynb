{
 "cells": [
  {
   "cell_type": "code",
   "execution_count": 4,
   "metadata": {},
   "outputs": [
    {
     "name": "stdout",
     "output_type": "stream",
     "text": [
      "This images is diagnosised as basal cell carcinoma.\n",
      "Label probs: tensor([[2.1105e-05, 6.4341e-01, 6.7238e-03, 8.3324e-05, 3.3436e-01, 1.5401e-02]])\n"
     ]
    }
   ],
   "source": [
    "import torch\n",
    "from PIL import Image\n",
    "import sys\n",
    "import os\n",
    "\n",
    "project_root = os.getcwd()\n",
    "src_path = os.path.join(project_root, '../src')\n",
    "sys.path.insert(0, project_root)\n",
    "sys.path.insert(0, src_path)\n",
    "\n",
    "import open_clip\n",
    "\n",
    "# Call MAKE with huggingface checkpoint\n",
    "model, _, preprocess = open_clip.create_model_and_transforms('hf-hub:xieji-x/MAKE')\n",
    "model.eval()\n",
    "\n",
    "# Similarly, we init the tokenizer with huggingface checkpoint\n",
    "tokenizer = open_clip.get_tokenizer('hf-hub:xieji-x/MAKE')\n",
    "\n",
    "# Read example image\n",
    "image = preprocess(Image.open(\"PAT_8_15_820.png\")).unsqueeze(0)\n",
    "\n",
    "# Here we will use the disease label in PAD dataset to build text prompts\n",
    "PAD_CLASSNAMES= [\"nevus\",  \"basal cell carcinoma\",\"actinic keratosis\", \"seborrheic keratosis\",\"squamous cell carcinoma\",\"melanoma\"]\n",
    "template = lambda c: f'This is a skin image of {c}'\n",
    "\n",
    "text = tokenizer([template(c) for c in PAD_CLASSNAMES])\n",
    "\n",
    "with torch.no_grad(), torch.autocast(\"cuda\"):\n",
    "    image_features = model.encode_image(image) # Encode image to visual feature\n",
    "    text_features = model.encode_text(text) # Encode text to text feature\n",
    "    \n",
    "    # Normalize\n",
    "    image_features /= image_features.norm(dim=-1, keepdim=True)\n",
    "    text_features /= text_features.norm(dim=-1, keepdim=True)\n",
    "\n",
    "    # Compute similarity\n",
    "    text_probs = (100.0 * image_features @ text_features.T).softmax(dim=-1)\n",
    "\n",
    "final_prediction = PAD_CLASSNAMES[torch.argmax(text_probs[0])]\n",
    "\n",
    "print(f'This images is diagnosised as {final_prediction}.')\n",
    "print(\"Label probs:\", text_probs)"
   ]
  }
 ],
 "metadata": {
  "kernelspec": {
   "display_name": "MAKE",
   "language": "python",
   "name": "python3"
  },
  "language_info": {
   "codemirror_mode": {
    "name": "ipython",
    "version": 3
   },
   "file_extension": ".py",
   "mimetype": "text/x-python",
   "name": "python",
   "nbconvert_exporter": "python",
   "pygments_lexer": "ipython3",
   "version": "3.9.20"
  }
 },
 "nbformat": 4,
 "nbformat_minor": 2
}
